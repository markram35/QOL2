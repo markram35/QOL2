{
 "cells": [
  {
   "cell_type": "code",
   "execution_count": 34,
   "id": "039172d6",
   "metadata": {},
   "outputs": [
    {
     "data": {
      "text/plain": [
       "Index(['city', 'city_ascii', 'state_id', 'state_name', 'county_fips',\n",
       "       'county_name', 'lat', 'lng', 'population', 'density', 'source',\n",
       "       'military', 'incorporated', 'timezone', 'ranking', 'zips', 'id'],\n",
       "      dtype='object')"
      ]
     },
     "execution_count": 34,
     "metadata": {},
     "output_type": "execute_result"
    }
   ],
   "source": [
    "import pandas as pd\n",
    "standardized = \"yes\"\n",
    "if standardized == \"no\":\n",
    "    df = pd.read_csv(\"data_not_standardized.csv\")\n",
    "if standardized == \"yes\":\n",
    "    df = pd.read_csv(\"data_standardized.csv\")\n",
    "df.drop(\"Unnamed: 0\", axis = 1, inplace = True)\n",
    "geo = pd.read_csv(\"uscities.csv\")\n",
    "geo.columns"
   ]
  },
  {
   "cell_type": "code",
   "execution_count": 35,
   "id": "be4927e3",
   "metadata": {},
   "outputs": [
    {
     "data": {
      "text/plain": [
       "Index(['State Abbreviation', 'Average Household Income 2020/2021',\n",
       "       'Percent Change in Household Income, 1984-2019',\n",
       "       'Average Yearly Percent Change in Household Income, 1984-2019',\n",
       "       'MinWage', 'City', 'Percent Change in Housing Prices, 2000-2019',\n",
       "       'Average Yearly Percent Change in Housing Prices, 2000-2019',\n",
       "       'Average House Price 2020/2021', 'County Name', 'Violent Crime Total',\n",
       "       'Property Crime Total', 'Property Crime Per Capita',\n",
       "       'Violent Crime Per Capita', 'Total Crime Per Capita', 'State', 'County',\n",
       "       'TotalPop', 'Men', 'Women', 'VotingAgeCitizen', 'Employed', 'Hispanic',\n",
       "       'White', 'Black', 'Native', 'Asian', 'Pacific', 'Income',\n",
       "       'IncomePerCap', 'Poverty', 'ChildPoverty', 'Professional', 'Service',\n",
       "       'Office', 'Construction', 'Production', 'Drive', 'Carpool', 'Transit',\n",
       "       'Walk', 'OtherTransp', 'WorkAtHome', 'MeanCommute', 'PrivateWork',\n",
       "       'PublicWork', 'SelfEmployed', 'FamilyWork', 'Unemployment', 'lat',\n",
       "       'lng'],\n",
       "      dtype='object')"
      ]
     },
     "execution_count": 35,
     "metadata": {},
     "output_type": "execute_result"
    }
   ],
   "source": [
    "geo = geo[[\"city\", \"lat\",\"lng\"]]\n",
    "df = df.merge(geo, left_on = \"City\", right_on = \"city\", how = \"left\")\n",
    "df.drop(\"city\", axis = 1, inplace = True)\n",
    "df.columns"
   ]
  },
  {
   "cell_type": "code",
   "execution_count": 36,
   "id": "3f21db4a",
   "metadata": {},
   "outputs": [],
   "source": [
    "if standardized == \"no\":\n",
    "    df.to_csv(\"gdata_not_standardized.csv\", sep = \",\")\n",
    "if standardized == \"yes\":\n",
    "    df.to_csv(\"gdata_standardized.csv\", sep = \",\")"
   ]
  },
  {
   "cell_type": "code",
   "execution_count": null,
   "id": "32bf6d7f",
   "metadata": {},
   "outputs": [],
   "source": []
  }
 ],
 "metadata": {
  "kernelspec": {
   "display_name": "Python 3 (ipykernel)",
   "language": "python",
   "name": "python3"
  },
  "language_info": {
   "codemirror_mode": {
    "name": "ipython",
    "version": 3
   },
   "file_extension": ".py",
   "mimetype": "text/x-python",
   "name": "python",
   "nbconvert_exporter": "python",
   "pygments_lexer": "ipython3",
   "version": "3.9.12"
  }
 },
 "nbformat": 4,
 "nbformat_minor": 5
}
